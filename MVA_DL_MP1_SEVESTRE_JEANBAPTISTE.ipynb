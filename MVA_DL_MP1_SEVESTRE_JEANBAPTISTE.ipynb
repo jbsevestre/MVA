{
 "cells": [
  {
   "cell_type": "markdown",
   "metadata": {},
   "source": [
    "# MVA - DL - MP1 - SEVESTRE JEAN-BAPTISTE"
   ]
  },
  {
   "cell_type": "markdown",
   "metadata": {},
   "source": [
    "# Project: Image Classification and Regression"
   ]
  },
  {
   "cell_type": "code",
   "execution_count": 1,
   "metadata": {},
   "outputs": [
    {
     "name": "stderr",
     "output_type": "stream",
     "text": [
      "Using TensorFlow backend.\n"
     ]
    }
   ],
   "source": [
    "import matplotlib.pyplot as plt\n",
    "%matplotlib inline\n",
    "import numpy as np\n",
    "import matplotlib.patches as patches\n",
    "import keras.utils as np_utils\n",
    "\n",
    "import keras.utils\n",
    "from keras.models import Sequential\n",
    "from keras.layers import Conv2D, MaxPooling2D\n",
    "from keras.layers import Dropout\n",
    "from keras.layers import Flatten\n",
    "from keras.layers import Dense\n",
    "from keras import optimizers\n",
    "\n",
    "from keras.layers import UpSampling2D\n",
    "from keras.layers import Input\n",
    "from keras.models import Model"
   ]
  },
  {
   "cell_type": "markdown",
   "metadata": {},
   "source": [
    "## 3. Simple Classification"
   ]
  },
  {
   "cell_type": "code",
   "execution_count": 2,
   "metadata": {},
   "outputs": [],
   "source": [
    "def generate_a_drawing(figsize, U, V, noise=0.0):\n",
    "    fig = plt.figure(figsize=(figsize,figsize))\n",
    "    ax = plt.subplot(111)\n",
    "    plt.axis('Off')\n",
    "    ax.set_xlim(0,figsize)\n",
    "    ax.set_ylim(0,figsize)\n",
    "    ax.fill(U, V, \"k\")\n",
    "    fig.canvas.draw()\n",
    "    imdata = np.frombuffer(fig.canvas.tostring_rgb(), dtype=np.uint8)[::3].astype(np.float32)\n",
    "    imdata = imdata + noise * np.random.random(imdata.size)\n",
    "    plt.close(fig)\n",
    "    return imdata\n",
    "\n",
    "def generate_a_rectangle(noise=0.0, free_location=False):\n",
    "    figsize = 1.0    \n",
    "    U = np.zeros(4)\n",
    "    V = np.zeros(4)\n",
    "    if free_location:\n",
    "        corners = np.random.random(4)\n",
    "        top = max(corners[0], corners[1])\n",
    "        bottom = min(corners[0], corners[1])\n",
    "        left = min(corners[2], corners[3])\n",
    "        right = max(corners[2], corners[3])\n",
    "    else:\n",
    "        side = (0.3 + 0.7 * np.random.random()) * figsize\n",
    "        top = figsize/2 + side/2\n",
    "        bottom = figsize/2 - side/2\n",
    "        left = bottom\n",
    "        right = top\n",
    "    U[0] = U[1] = top\n",
    "    U[2] = U[3] = bottom\n",
    "    V[0] = V[3] = left\n",
    "    V[1] = V[2] = right\n",
    "    return generate_a_drawing(figsize, U, V, noise)\n",
    "\n",
    "\n",
    "def generate_a_disk(noise=0.0, free_location=False):\n",
    "    figsize = 1.0\n",
    "    if free_location:\n",
    "        center = np.random.random(2)\n",
    "    else:\n",
    "        center = (figsize/2, figsize/2)\n",
    "    radius = (0.3 + 0.7 * np.random.random()) * figsize/2\n",
    "    N = 50\n",
    "    U = np.zeros(N)\n",
    "    V = np.zeros(N)\n",
    "    i = 0\n",
    "    for t in np.linspace(0, 2*np.pi, N):\n",
    "        U[i] = center[0] + np.cos(t) * radius\n",
    "        V[i] = center[1] + np.sin(t) * radius\n",
    "        i = i + 1\n",
    "    return generate_a_drawing(figsize, U, V, noise)\n",
    "\n",
    "def generate_a_triangle(noise=0.0, free_location=False):\n",
    "    figsize = 1.0\n",
    "    if free_location:\n",
    "        U = np.random.random(3)\n",
    "        V = np.random.random(3)\n",
    "    else:\n",
    "        size = (0.3 + 0.7 * np.random.random())*figsize/2\n",
    "        middle = figsize/2\n",
    "        U = (middle, middle+size, middle-size)\n",
    "        V = (middle+size, middle-size, middle-size)\n",
    "    imdata = generate_a_drawing(figsize, U, V, noise)\n",
    "    return [imdata, [U[0], V[0], U[1], V[1], U[2], V[2]]]\n",
    "\n",
    "def generate_dataset_classification(nb_samples, noise=0.0, free_location=False):\n",
    "    # Getting im_size:\n",
    "    im_size = generate_a_rectangle().shape[0]\n",
    "    X = np.zeros([nb_samples,im_size])\n",
    "    Y = np.zeros(nb_samples)\n",
    "    #print('Creating data:')\n",
    "    for i in range(nb_samples):\n",
    "        #if i % 10 == 0:\n",
    "            #print(i)\n",
    "        category = np.random.randint(3)\n",
    "        if category == 0:\n",
    "            X[i] = generate_a_rectangle(noise, free_location)\n",
    "        elif category == 1: \n",
    "            X[i] = generate_a_disk(noise, free_location)\n",
    "        else:\n",
    "            [X[i], V] = generate_a_triangle(noise, free_location)\n",
    "        Y[i] = category\n",
    "    X = (X + noise) / (255 + 2 * noise)\n",
    "    print('done')\n",
    "    return [X, Y]\n",
    "\n",
    "def generate_test_set_classification():\n",
    "    np.random.seed(42)\n",
    "    [X_test, Y_test] = generate_dataset_classification(300, 20, True)\n",
    "    Y_test = np_utils.to_categorical(Y_test, 3) \n",
    "    return [X_test, Y_test]\n",
    "\n",
    "def generate_dataset_regression(nb_samples, noise=0.0):\n",
    "    # Getting im_size:\n",
    "    im_size = generate_a_triangle()[0].shape[0]\n",
    "    X = np.zeros([nb_samples,im_size])\n",
    "    Y = np.zeros([nb_samples, 6])\n",
    "    #print('Creating data:')\n",
    "    for i in range(nb_samples):\n",
    "        #if i % 10 == 0:\n",
    "        #    print(i)\n",
    "        [X[i], Y[i]] = generate_a_triangle(noise, True)\n",
    "    X = (X + noise) / (255 + 2 * noise)\n",
    "    print('done')\n",
    "    return [X, Y]\n",
    "\n",
    "def visualize_prediction(x, y):\n",
    "    fig, ax = plt.subplots(figsize=(5, 5))\n",
    "    I = x.reshape((IMAGE_SIZE,IMAGE_SIZE))\n",
    "    ax.imshow(I, extent=[-0.15,1.15,-0.15,1.15],cmap='gray')\n",
    "    ax.set_xlim([0,1])\n",
    "    ax.set_ylim([0,1])\n",
    "\n",
    "    xy = y.reshape(3,2)\n",
    "    tri = patches.Polygon(xy, closed=True, fill = False, edgecolor = 'r', linewidth = 5, alpha = 0.5)\n",
    "    ax.add_patch(tri)\n",
    "\n",
    "    plt.show()\n",
    "    \n",
    "def visualization(n,x,y,z):\n",
    "    fig, ax = plt.subplots(1,5,figsize=(20, 20))\n",
    "    fig.subplots_adjust(left=0.03, right=0.97, hspace=0.6, wspace=0.05)\n",
    "    \n",
    "    i = n\n",
    "    for a in ax:\n",
    "        I = x[i].reshape((IMAGE_SIZE,IMAGE_SIZE))\n",
    "        a.imshow(I, extent=[-0.15,1.15,-0.15,1.15],cmap='gray')\n",
    "        a.set_xlim([0,1])\n",
    "        a.set_ylim([0,1])\n",
    "        \n",
    "        xy = y[i].reshape(3,2)\n",
    "        tri = patches.Polygon(xy, closed=True, fill = False, edgecolor = 'g', linewidth = 5, alpha = 0.5)\n",
    "        a.add_patch(tri)\n",
    "        \n",
    "        xz = z[i].reshape(3,2)\n",
    "        tri_2 = patches.Polygon(xz, closed=True, fill = False, edgecolor = 'r', linewidth = 5, alpha = 0.5)\n",
    "        a.add_patch(tri_2)\n",
    "        \n",
    "        i = i + 1\n",
    "    plt.show()\n",
    "    \n",
    "def generate_test_set_regression():\n",
    "    np.random.seed(42)\n",
    "    [X_test, Y_test] = generate_dataset_regression(300, 20)\n",
    "    return [X_test, Y_test]"
   ]
  },
  {
   "cell_type": "code",
   "execution_count": 3,
   "metadata": {},
   "outputs": [],
   "source": [
    "IMAGE_SIZE = 72"
   ]
  },
  {
   "cell_type": "code",
   "execution_count": 4,
   "metadata": {},
   "outputs": [],
   "source": [
    "#im = generate_a_rectangle(10, True)\n",
    "#plt.imshow(im.reshape(IMAGE_SIZE,IMAGE_SIZE), cmap='gray')\n",
    "\n",
    "#im = generate_a_disk(10)\n",
    "#plt.imshow(im.reshape(IMAGE_SIZE,IMAGE_SIZE), cmap='gray')\n",
    "\n",
    "#[im, v] = generate_a_triangle(20, False)\n",
    "#plt.imshow(im.reshape(IMAGE_SIZE,IMAGE_SIZE), cmap='gray')"
   ]
  },
  {
   "cell_type": "markdown",
   "metadata": {},
   "source": [
    "### Loading the data"
   ]
  },
  {
   "cell_type": "code",
   "execution_count": 5,
   "metadata": {},
   "outputs": [
    {
     "name": "stdout",
     "output_type": "stream",
     "text": [
      "done\n",
      "done\n"
     ]
    }
   ],
   "source": [
    "[X_train, Y_train] = generate_dataset_classification(300, 20)\n",
    "[X_test, Y_test] = generate_dataset_classification(300,20)"
   ]
  },
  {
   "cell_type": "markdown",
   "metadata": {},
   "source": [
    "### Visualizating one Sample"
   ]
  },
  {
   "cell_type": "code",
   "execution_count": 6,
   "metadata": {},
   "outputs": [
    {
     "data": {
      "text/plain": [
       "<matplotlib.image.AxesImage at 0xb34ebd908>"
      ]
     },
     "execution_count": 6,
     "metadata": {},
     "output_type": "execute_result"
    },
    {
     "data": {
      "image/png": "[encoded data removed]",
      "text/plain": [
       "<Figure size 432x288 with 1 Axes>"
      ]
     },
     "metadata": {
      "needs_background": "light"
     },
     "output_type": "display_data"
    }
   ],
   "source": [
    "plt.imshow(X_train[10].reshape(IMAGE_SIZE,IMAGE_SIZE), cmap='gray')"
   ]
  },
  {
   "cell_type": "markdown",
   "metadata": {},
   "source": [
    "### Reformating"
   ]
  },
  {
   "cell_type": "code",
   "execution_count": 7,
   "metadata": {},
   "outputs": [],
   "source": [
    "X_train = X_train.reshape(X_train.shape[0],IMAGE_SIZE,IMAGE_SIZE,1)\n",
    "Y_train = keras.utils.to_categorical(Y_train,num_classes=3)\n",
    "\n",
    "X_test = X_test.reshape(X_test.shape[0],IMAGE_SIZE,IMAGE_SIZE,1)\n",
    "Y_test = keras.utils.to_categorical(Y_test,num_classes=3)"
   ]
  },
  {
   "cell_type": "markdown",
   "metadata": {},
   "source": [
    "### Creating the model"
   ]
  },
  {
   "cell_type": "code",
   "execution_count": 8,
   "metadata": {
    "scrolled": true
   },
   "outputs": [
    {
     "name": "stdout",
     "output_type": "stream",
     "text": [
      "_________________________________________________________________\n",
      "Layer (type)                 Output Shape              Param #   \n",
      "=================================================================\n",
      "flatten_1 (Flatten)          (None, 5184)              0         \n",
      "_________________________________________________________________\n",
      "dense_1 (Dense)              (None, 3)                 15555     \n",
      "=================================================================\n",
      "Total params: 15,555\n",
      "Trainable params: 15,555\n",
      "Non-trainable params: 0\n",
      "_________________________________________________________________\n"
     ]
    }
   ],
   "source": [
    "model = Sequential()\n",
    "model.add(Flatten(input_shape=(IMAGE_SIZE,IMAGE_SIZE,1)))\n",
    "model.add(Dense(3, activation='softmax'))\n",
    "\n",
    "model.summary()"
   ]
  },
  {
   "cell_type": "markdown",
   "metadata": {},
   "source": [
    "### SGD"
   ]
  },
  {
   "cell_type": "markdown",
   "metadata": {},
   "source": [
    "#### Optimization"
   ]
  },
  {
   "cell_type": "code",
   "execution_count": 9,
   "metadata": {},
   "outputs": [
    {
     "data": {
      "text/plain": [
       "<keras.callbacks.History at 0xb35c86dd8>"
      ]
     },
     "execution_count": 9,
     "metadata": {},
     "output_type": "execute_result"
    }
   ],
   "source": [
    "model_sgd = Sequential()\n",
    "model_sgd.add(Flatten(input_shape=(IMAGE_SIZE,IMAGE_SIZE,1)))\n",
    "model_sgd.add(Dense(3, activation='softmax'))\n",
    "\n",
    "sgd = optimizers.SGD(lr=0.01, decay=1e-6, momentum=0.9, nesterov=True)\n",
    "model_sgd.compile(loss='categorical_crossentropy', optimizer=sgd, metrics=['accuracy'])\n",
    "model_sgd.fit(X_train, Y_train, batch_size=32, epochs=40, verbose=0)"
   ]
  },
  {
   "cell_type": "markdown",
   "metadata": {},
   "source": [
    "#### Testing"
   ]
  },
  {
   "cell_type": "code",
   "execution_count": 10,
   "metadata": {},
   "outputs": [
    {
     "name": "stdout",
     "output_type": "stream",
     "text": [
      "Test loss: 10.369308102925618\n",
      "Test accuracy: 0.3566666662693024\n"
     ]
    }
   ],
   "source": [
    "score = model_sgd.evaluate(X_test, Y_test, verbose=0)\n",
    "\n",
    "print('Test loss:',score[0])\n",
    "print('Test accuracy:',score[1])"
   ]
  },
  {
   "cell_type": "markdown",
   "metadata": {},
   "source": [
    "### ADAM"
   ]
  },
  {
   "cell_type": "markdown",
   "metadata": {},
   "source": [
    "#### Optimization"
   ]
  },
  {
   "cell_type": "code",
   "execution_count": 11,
   "metadata": {},
   "outputs": [
    {
     "data": {
      "text/plain": [
       "<keras.callbacks.History at 0xb360fcac8>"
      ]
     },
     "execution_count": 11,
     "metadata": {},
     "output_type": "execute_result"
    }
   ],
   "source": [
    "model_adam = Sequential()\n",
    "model_adam.add(Flatten(input_shape=(IMAGE_SIZE,IMAGE_SIZE,1)))\n",
    "model_adam.add(Dense(3, activation='softmax'))\n",
    "\n",
    "model_adam.compile(loss='categorical_crossentropy', optimizer='adam', metrics=['accuracy'])\n",
    "model_adam.fit(X_train, Y_train, batch_size=32, epochs=40, verbose=0)"
   ]
  },
  {
   "cell_type": "markdown",
   "metadata": {},
   "source": [
    "#### Testing"
   ]
  },
  {
   "cell_type": "code",
   "execution_count": 12,
   "metadata": {},
   "outputs": [
    {
     "name": "stdout",
     "output_type": "stream",
     "text": [
      "Test loss: 0.03470267002781232\n",
      "Test accuracy: 1.0\n"
     ]
    }
   ],
   "source": [
    "score = model_adam.evaluate(X_test, Y_test, verbose=0)\n",
    "\n",
    "print('Test loss:',score[0])\n",
    "print('Test accuracy:',score[1])"
   ]
  },
  {
   "cell_type": "markdown",
   "metadata": {},
   "source": [
    "### Conclusion"
   ]
  },
  {
   "cell_type": "markdown",
   "metadata": {},
   "source": [
    "Adam gives a better loss and a better accuracy than SGD."
   ]
  },
  {
   "cell_type": "markdown",
   "metadata": {},
   "source": [
    "## 4. Visualization of the Solution"
   ]
  },
  {
   "cell_type": "markdown",
   "metadata": {},
   "source": [
    "### Reformating the weights"
   ]
  },
  {
   "cell_type": "code",
   "execution_count": 13,
   "metadata": {},
   "outputs": [],
   "source": [
    "col_1 = model_adam.get_weights()[0][:,0].reshape((72,72))\n",
    "col_2 = model_adam.get_weights()[0][:,1].reshape((72,72))\n",
    "col_3 = model_adam.get_weights()[0][:,2].reshape((72,72))"
   ]
  },
  {
   "cell_type": "markdown",
   "metadata": {},
   "source": [
    "### Visualization of the weights"
   ]
  },
  {
   "cell_type": "code",
   "execution_count": 14,
   "metadata": {},
   "outputs": [
    {
     "data": {
      "image/png": "[encoded data removed]",
      "text/plain": [
       "<Figure size 720x216 with 3 Axes>"
      ]
     },
     "metadata": {
      "needs_background": "light"
     },
     "output_type": "display_data"
    }
   ],
   "source": [
    "fig = plt.figure(figsize=(10,3))\n",
    "\n",
    "ax1 = fig.add_subplot(1,3,1)\n",
    "ax1.imshow(col_1, cmap='gray')\n",
    "ax1.axis('off')\n",
    "\n",
    "ax1 = fig.add_subplot(1,3,2)\n",
    "ax1.imshow(col_2, cmap='gray')\n",
    "ax1.axis('off')\n",
    "\n",
    "ax1 = fig.add_subplot(1,3,3)\n",
    "ax1.imshow(col_3, cmap='gray')\n",
    "ax1.axis('off')\n",
    "    \n",
    "plt.subplots_adjust(wspace=0.1, hspace=0.1)\n",
    "plt.show()"
   ]
  },
  {
   "cell_type": "markdown",
   "metadata": {},
   "source": [
    "## 5. A More Difficult Classification Problem"
   ]
  },
  {
   "cell_type": "markdown",
   "metadata": {},
   "source": [
    "Now, the shapes are allowed to move within the images and change dimensions."
   ]
  },
  {
   "cell_type": "markdown",
   "metadata": {},
   "source": [
    "### Loading the data"
   ]
  },
  {
   "cell_type": "code",
   "execution_count": 15,
   "metadata": {},
   "outputs": [
    {
     "name": "stdout",
     "output_type": "stream",
     "text": [
      "done\n",
      "done\n"
     ]
    }
   ],
   "source": [
    "[X_train, Y_train] = generate_dataset_classification(300, 20, True)\n",
    "[X_test, Y_test] = generate_test_set_classification()"
   ]
  },
  {
   "cell_type": "markdown",
   "metadata": {},
   "source": [
    "### Visualizating one Sample"
   ]
  },
  {
   "cell_type": "code",
   "execution_count": 16,
   "metadata": {},
   "outputs": [
    {
     "data": {
      "text/plain": [
       "<matplotlib.image.AxesImage at 0xb3705a978>"
      ]
     },
     "execution_count": 16,
     "metadata": {},
     "output_type": "execute_result"
    },
    {
     "data": {
      "image/png": "[encoded data removed]",
      "text/plain": [
       "<Figure size 432x288 with 1 Axes>"
      ]
     },
     "metadata": {
      "needs_background": "light"
     },
     "output_type": "display_data"
    }
   ],
   "source": [
    "plt.imshow(X_train[1].reshape(IMAGE_SIZE,IMAGE_SIZE), cmap='gray')"
   ]
  },
  {
   "cell_type": "markdown",
   "metadata": {},
   "source": [
    "### Reformating"
   ]
  },
  {
   "cell_type": "code",
   "execution_count": 17,
   "metadata": {},
   "outputs": [],
   "source": [
    "X_train = X_train.reshape(X_train.shape[0],IMAGE_SIZE,IMAGE_SIZE,1)\n",
    "Y_train = keras.utils.to_categorical(Y_train,num_classes=3)\n",
    "\n",
    "X_test = X_test.reshape(X_test.shape[0],IMAGE_SIZE,IMAGE_SIZE,1)"
   ]
  },
  {
   "cell_type": "markdown",
   "metadata": {},
   "source": [
    "### Model (Linear classifier)"
   ]
  },
  {
   "cell_type": "code",
   "execution_count": 18,
   "metadata": {},
   "outputs": [],
   "source": [
    "model_linear = Sequential()\n",
    "model_linear.add(Flatten(input_shape=(IMAGE_SIZE,IMAGE_SIZE,1)))\n",
    "model_linear.add(Dense(3, activation='softmax'))"
   ]
  },
  {
   "cell_type": "markdown",
   "metadata": {},
   "source": [
    "#### Optimization"
   ]
  },
  {
   "cell_type": "code",
   "execution_count": 19,
   "metadata": {},
   "outputs": [
    {
     "data": {
      "text/plain": [
       "<keras.callbacks.History at 0xb37256470>"
      ]
     },
     "execution_count": 19,
     "metadata": {},
     "output_type": "execute_result"
    }
   ],
   "source": [
    "model_linear.compile(loss='categorical_crossentropy', optimizer='adam', metrics=['accuracy'])\n",
    "model_linear.fit(X_train, Y_train, batch_size=32, epochs=40, verbose=0)"
   ]
  },
  {
   "cell_type": "markdown",
   "metadata": {},
   "source": [
    "#### Testing"
   ]
  },
  {
   "cell_type": "code",
   "execution_count": 20,
   "metadata": {},
   "outputs": [
    {
     "name": "stdout",
     "output_type": "stream",
     "text": [
      "Test loss: 0.9696217314402262\n",
      "Test accuracy: 0.48333333353201546\n"
     ]
    }
   ],
   "source": [
    "score = model_linear.evaluate(X_test,Y_test,verbose=0)\n",
    "\n",
    "print('Test loss:',score[0])\n",
    "print('Test accuracy:',score[1])"
   ]
  },
  {
   "cell_type": "markdown",
   "metadata": {},
   "source": [
    "### Model (Convolutional deep network)"
   ]
  },
  {
   "cell_type": "code",
   "execution_count": 21,
   "metadata": {},
   "outputs": [
    {
     "name": "stdout",
     "output_type": "stream",
     "text": [
      "_________________________________________________________________\n",
      "Layer (type)                 Output Shape              Param #   \n",
      "=================================================================\n",
      "conv2d_1 (Conv2D)            (None, 70, 70, 32)        320       \n",
      "_________________________________________________________________\n",
      "max_pooling2d_1 (MaxPooling2 (None, 35, 35, 32)        0         \n",
      "_________________________________________________________________\n",
      "dropout_1 (Dropout)          (None, 35, 35, 32)        0         \n",
      "_________________________________________________________________\n",
      "conv2d_2 (Conv2D)            (None, 33, 33, 32)        9248      \n",
      "_________________________________________________________________\n",
      "max_pooling2d_2 (MaxPooling2 (None, 16, 16, 32)        0         \n",
      "_________________________________________________________________\n",
      "dropout_2 (Dropout)          (None, 16, 16, 32)        0         \n",
      "_________________________________________________________________\n",
      "conv2d_3 (Conv2D)            (None, 14, 14, 32)        9248      \n",
      "_________________________________________________________________\n",
      "max_pooling2d_3 (MaxPooling2 (None, 7, 7, 32)          0         \n",
      "_________________________________________________________________\n",
      "dropout_3 (Dropout)          (None, 7, 7, 32)          0         \n",
      "_________________________________________________________________\n",
      "flatten_5 (Flatten)          (None, 1568)              0         \n",
      "_________________________________________________________________\n",
      "dense_5 (Dense)              (None, 1568)              2460192   \n",
      "_________________________________________________________________\n",
      "dense_6 (Dense)              (None, 128)               200832    \n",
      "_________________________________________________________________\n",
      "dense_7 (Dense)              (None, 3)                 387       \n",
      "=================================================================\n",
      "Total params: 2,680,227\n",
      "Trainable params: 2,680,227\n",
      "Non-trainable params: 0\n",
      "_________________________________________________________________\n"
     ]
    }
   ],
   "source": [
    "model_cnn = Sequential()\n",
    "\n",
    "model_cnn.add(Conv2D(32, (3, 3), activation='relu', input_shape=(IMAGE_SIZE,IMAGE_SIZE,1)))\n",
    "model_cnn.add(MaxPooling2D(pool_size=(2, 2), strides=(2, 2)))\n",
    "model_cnn.add(Dropout(0.25))\n",
    "\n",
    "model_cnn.add(Conv2D(32, (3, 3), activation='relu', input_shape=(35,35,32)))\n",
    "model_cnn.add(MaxPooling2D(pool_size=(2, 2), strides=(2, 2)))\n",
    "model_cnn.add(Dropout(0.25))\n",
    "\n",
    "model_cnn.add(Conv2D(32, (3, 3), activation='relu', input_shape=(16,16,32)))\n",
    "model_cnn.add(MaxPooling2D(pool_size=(2, 2)))\n",
    "model_cnn.add(Dropout(0.25))\n",
    "\n",
    "model_cnn.add(Flatten())\n",
    "\n",
    "model_cnn.add(Dense(1568, activation='relu'))\n",
    "\n",
    "model_cnn.add(Dense(128, activation='relu'))\n",
    "\n",
    "model_cnn.add(Dense(3, activation='softmax'))\n",
    "\n",
    "model_cnn.summary()"
   ]
  },
  {
   "cell_type": "markdown",
   "metadata": {},
   "source": [
    "#### Optimization"
   ]
  },
  {
   "cell_type": "code",
   "execution_count": 22,
   "metadata": {},
   "outputs": [
    {
     "name": "stdout",
     "output_type": "stream",
     "text": [
      "Epoch 1/40\n",
      " - 2s - loss: 1.1862 - acc: 0.3367\n",
      "Epoch 2/40\n",
      " - 1s - loss: 1.0843 - acc: 0.4267\n",
      "Epoch 3/40\n",
      " - 1s - loss: 1.0599 - acc: 0.4733\n",
      "Epoch 4/40\n",
      " - 1s - loss: 1.0255 - acc: 0.4167\n",
      "Epoch 5/40\n",
      " - 1s - loss: 0.8763 - acc: 0.5667\n",
      "Epoch 6/40\n",
      " - 1s - loss: 0.8226 - acc: 0.6267\n",
      "Epoch 7/40\n",
      " - 1s - loss: 0.7494 - acc: 0.6900\n",
      "Epoch 8/40\n",
      " - 1s - loss: 0.7393 - acc: 0.6567\n",
      "Epoch 9/40\n",
      " - 1s - loss: 0.6323 - acc: 0.7233\n",
      "Epoch 10/40\n",
      " - 2s - loss: 0.4994 - acc: 0.7900\n",
      "Epoch 11/40\n",
      " - 1s - loss: 0.3703 - acc: 0.8667\n",
      "Epoch 12/40\n",
      " - 1s - loss: 0.2575 - acc: 0.9000\n",
      "Epoch 13/40\n",
      " - 1s - loss: 0.2227 - acc: 0.9167\n",
      "Epoch 14/40\n",
      " - 1s - loss: 0.1818 - acc: 0.9467\n",
      "Epoch 15/40\n",
      " - 1s - loss: 0.1168 - acc: 0.9733\n",
      "Epoch 16/40\n",
      " - 1s - loss: 0.1194 - acc: 0.9633\n",
      "Epoch 17/40\n",
      " - 1s - loss: 0.0540 - acc: 0.9867\n",
      "Epoch 18/40\n",
      " - 1s - loss: 0.0488 - acc: 0.9800\n",
      "Epoch 19/40\n",
      " - 1s - loss: 0.0309 - acc: 0.9933\n",
      "Epoch 20/40\n",
      " - 1s - loss: 0.0721 - acc: 0.9700\n",
      "Epoch 21/40\n",
      " - 1s - loss: 0.0845 - acc: 0.9800\n",
      "Epoch 22/40\n",
      " - 1s - loss: 0.0397 - acc: 0.9900\n",
      "Epoch 23/40\n",
      " - 1s - loss: 0.0570 - acc: 0.9800\n",
      "Epoch 24/40\n",
      " - 1s - loss: 0.0398 - acc: 0.9867\n",
      "Epoch 25/40\n",
      " - 1s - loss: 0.0175 - acc: 0.9933\n",
      "Epoch 26/40\n",
      " - 1s - loss: 0.0480 - acc: 0.9767\n",
      "Epoch 27/40\n",
      " - 1s - loss: 0.0796 - acc: 0.9700\n",
      "Epoch 28/40\n",
      " - 1s - loss: 0.0497 - acc: 0.9867\n",
      "Epoch 29/40\n",
      " - 1s - loss: 0.0550 - acc: 0.9800\n",
      "Epoch 30/40\n",
      " - 1s - loss: 0.0241 - acc: 0.9933\n",
      "Epoch 31/40\n",
      " - 1s - loss: 0.0156 - acc: 0.9967\n",
      "Epoch 32/40\n",
      " - 1s - loss: 0.0139 - acc: 0.9933\n",
      "Epoch 33/40\n",
      " - 1s - loss: 0.0116 - acc: 0.9967\n",
      "Epoch 34/40\n",
      " - 1s - loss: 0.0286 - acc: 0.9833\n",
      "Epoch 35/40\n",
      " - 1s - loss: 0.0049 - acc: 1.0000\n",
      "Epoch 36/40\n",
      " - 1s - loss: 0.0033 - acc: 1.0000\n",
      "Epoch 37/40\n",
      " - 1s - loss: 0.0044 - acc: 0.9967\n",
      "Epoch 38/40\n",
      " - 1s - loss: 0.0043 - acc: 0.9967\n",
      "Epoch 39/40\n",
      " - 1s - loss: 0.0027 - acc: 1.0000\n",
      "Epoch 40/40\n",
      " - 1s - loss: 0.0056 - acc: 0.9967\n"
     ]
    },
    {
     "data": {
      "text/plain": [
       "<keras.callbacks.History at 0xb376ceef0>"
      ]
     },
     "execution_count": 22,
     "metadata": {},
     "output_type": "execute_result"
    }
   ],
   "source": [
    "model_cnn.compile(loss='categorical_crossentropy', optimizer='adam', metrics=['accuracy'])\n",
    "model_cnn.fit(X_train, Y_train, batch_size=32, epochs=40, verbose=2)"
   ]
  },
  {
   "cell_type": "markdown",
   "metadata": {},
   "source": [
    "#### Testing"
   ]
  },
  {
   "cell_type": "code",
   "execution_count": 23,
   "metadata": {},
   "outputs": [
    {
     "name": "stdout",
     "output_type": "stream",
     "text": [
      "Test loss: 0.2417559492588043\n",
      "Test accuracy: 0.943333334128062\n"
     ]
    }
   ],
   "source": [
    "score = model_cnn.evaluate(X_test, Y_test, verbose=0)\n",
    "\n",
    "print('Test loss:',score[0])\n",
    "print('Test accuracy:',score[1])"
   ]
  },
  {
   "cell_type": "markdown",
   "metadata": {},
   "source": [
    "### Conclusion"
   ]
  },
  {
   "cell_type": "markdown",
   "metadata": {},
   "source": [
    "The value of the loss function on this test set when using the deep network is 0.24. It is an improvement (with the linear classifier we had a loss of 0.97 for the same number of epochs).\n",
    "Furthermore, the convolutional deep network gives a better accuracy than the linear classifier."
   ]
  },
  {
   "cell_type": "markdown",
   "metadata": {},
   "source": [
    "## 6. A Regression Problem"
   ]
  },
  {
   "cell_type": "markdown",
   "metadata": {},
   "source": [
    "The task now is to predict the image locations of the vertices of a triangle, given an image of this triangle"
   ]
  },
  {
   "cell_type": "markdown",
   "metadata": {},
   "source": [
    "### Generate a training and test set"
   ]
  },
  {
   "cell_type": "code",
   "execution_count": 24,
   "metadata": {},
   "outputs": [
    {
     "name": "stdout",
     "output_type": "stream",
     "text": [
      "done\n",
      "done\n"
     ]
    }
   ],
   "source": [
    "[X_train, Y_train] = generate_dataset_regression(300, 20)\n",
    "[X_test, Y_test] = generate_test_set_regression()"
   ]
  },
  {
   "cell_type": "markdown",
   "metadata": {},
   "source": [
    "### Order vertices"
   ]
  },
  {
   "cell_type": "markdown",
   "metadata": {},
   "source": [
    "First we make a function to order the vertices in the x-axis order."
   ]
  },
  {
   "cell_type": "code",
   "execution_count": 25,
   "metadata": {},
   "outputs": [],
   "source": [
    "def ordered(tab_1):\n",
    "    tab = np.copy(tab_1)\n",
    "    for i in range(0,300):\n",
    "        a = np.copy(tab[i][0])\n",
    "        b = np.copy(tab[i][1])\n",
    "        c = np.copy(tab[i][2])\n",
    "        if(a[0] <= b[0] <= c[0]):\n",
    "            tab[i][0] = a\n",
    "            tab[i][1] = b\n",
    "            tab[i][2] = c\n",
    "        elif(a[0] <= c[0] <= b[0]):\n",
    "            tab[i][0] = a\n",
    "            tab[i][1] = c\n",
    "            tab[i][2] = b\n",
    "        elif(b[0] <= a[0] <= c[0]):\n",
    "            tab[i][0] = b\n",
    "            tab[i][1] = a\n",
    "            tab[i][2] = c\n",
    "        elif(b[0] <= c[0] <= a[0]):\n",
    "            tab[i][0] = b\n",
    "            tab[i][1] = c\n",
    "            tab[i][2] = a\n",
    "        elif(c[0] <= a[0] <= b[0]):\n",
    "            tab[i][0] = c\n",
    "            tab[i][1] = a\n",
    "            tab[i][2] = b\n",
    "        elif(c[0] <= b[0] <= a[0]):\n",
    "            tab[i][0] = c\n",
    "            tab[i][1] = b\n",
    "            tab[i][2] = a\n",
    "    return tab"
   ]
  },
  {
   "cell_type": "code",
   "execution_count": 26,
   "metadata": {},
   "outputs": [],
   "source": [
    "Y_vertices_train = ordered(Y_train.reshape(300,3,2)).reshape(300,6)\n",
    "Y_vertices_test = ordered(Y_test.reshape(300,3,2)).reshape(300,6)"
   ]
  },
  {
   "cell_type": "markdown",
   "metadata": {},
   "source": [
    "### Normalized $Y$"
   ]
  },
  {
   "cell_type": "markdown",
   "metadata": {},
   "source": [
    "We've normalized $Y_{train}$ and $Y_{test}$ :"
   ]
  },
  {
   "cell_type": "code",
   "execution_count": 27,
   "metadata": {},
   "outputs": [],
   "source": [
    "from sklearn import preprocessing\n",
    "\n",
    "std_train = np.std(Y_vertices_train, 1)\n",
    "mean_train = np.mean(Y_vertices_train, 1)\n",
    "std_test = np.std(Y_vertices_test, 1)\n",
    "mean_test = np.mean(Y_vertices_test, 1)\n",
    "\n",
    "Y_vertices_train = preprocessing.scale(Y_vertices_train, axis=1)\n",
    "Y_vertices_test = preprocessing.scale(Y_vertices_test, axis=1)"
   ]
  },
  {
   "cell_type": "code",
   "execution_count": 28,
   "metadata": {},
   "outputs": [],
   "source": [
    "def denormalize_train(tab_1):\n",
    "    tab = np.copy(tab_1)\n",
    "    for i in range(0,300):\n",
    "        tab[i] = np.copy(tab_1[i])*std_train[i]+mean_train[i]\n",
    "    return tab\n",
    "\n",
    "def denormalize_test(tab_1):\n",
    "    tab = np.copy(tab_1)\n",
    "    for i in range(0,300):\n",
    "        tab[i] = np.copy(tab_1[i])*std_test[i]+mean_test[i]\n",
    "    return tab"
   ]
  },
  {
   "cell_type": "markdown",
   "metadata": {},
   "source": [
    "### Visualize a training sample"
   ]
  },
  {
   "cell_type": "code",
   "execution_count": 29,
   "metadata": {},
   "outputs": [
    {
     "data": {
      "image/png": "[encoded data removed]",
      "text/plain": [
       "<Figure size 360x360 with 1 Axes>"
      ]
     },
     "metadata": {
      "needs_background": "light"
     },
     "output_type": "display_data"
    }
   ],
   "source": [
    "n = 12\n",
    "visualize_prediction(X_train[n], denormalize_train(Y_vertices_train)[n])"
   ]
  },
  {
   "cell_type": "markdown",
   "metadata": {},
   "source": [
    "### Reformating"
   ]
  },
  {
   "cell_type": "code",
   "execution_count": 30,
   "metadata": {},
   "outputs": [],
   "source": [
    "X_train = X_train.reshape(X_train.shape[0],IMAGE_SIZE,IMAGE_SIZE,1)\n",
    "X_test = X_test.reshape(X_test.shape[0],IMAGE_SIZE,IMAGE_SIZE,1)"
   ]
  },
  {
   "cell_type": "markdown",
   "metadata": {},
   "source": [
    "### Model"
   ]
  },
  {
   "cell_type": "code",
   "execution_count": 31,
   "metadata": {},
   "outputs": [],
   "source": [
    "model_vertices = Sequential()\n",
    "\n",
    "model_vertices.add(Conv2D(32, (3, 3), activation='relu', input_shape=(IMAGE_SIZE,IMAGE_SIZE,1)))\n",
    "model_vertices.add(MaxPooling2D(pool_size=(2, 2), strides=(2, 2)))\n",
    "model_vertices.add(Dropout(0.25))\n",
    "\n",
    "model_vertices.add(Conv2D(32, (3, 3), activation='relu', input_shape=(35,35,32)))\n",
    "model_vertices.add(MaxPooling2D(pool_size=(2, 2), strides=(2, 2)))\n",
    "model_vertices.add(Dropout(0.25))\n",
    "\n",
    "model_vertices.add(Conv2D(32, (3, 3), activation='relu', input_shape=(16,16,32)))\n",
    "model_vertices.add(MaxPooling2D(pool_size=(2, 2)))\n",
    "model_vertices.add(Dropout(0.25))\n",
    "\n",
    "model_vertices.add(Flatten())\n",
    "\n",
    "model_vertices.add(Dense(1568, activation='relu'))\n",
    "\n",
    "model_vertices.add(Dense(128, activation='relu'))\n",
    "\n",
    "model_vertices.add(Dense(6))"
   ]
  },
  {
   "cell_type": "markdown",
   "metadata": {},
   "source": [
    "### Optimization"
   ]
  },
  {
   "cell_type": "code",
   "execution_count": 32,
   "metadata": {},
   "outputs": [
    {
     "name": "stdout",
     "output_type": "stream",
     "text": [
      "Epoch 1/80\n",
      " - 2s - loss: 0.7497\n",
      "Epoch 2/80\n",
      " - 2s - loss: 0.5548\n",
      "Epoch 3/80\n",
      " - 2s - loss: 0.4256\n",
      "Epoch 4/80\n",
      " - 2s - loss: 0.3624\n",
      "Epoch 5/80\n",
      " - 2s - loss: 0.3077\n",
      "Epoch 6/80\n",
      " - 2s - loss: 0.2655\n",
      "Epoch 7/80\n",
      " - 2s - loss: 0.2128\n",
      "Epoch 8/80\n",
      " - 2s - loss: 0.1748\n",
      "Epoch 9/80\n",
      " - 2s - loss: 0.1338\n",
      "Epoch 10/80\n",
      " - 2s - loss: 0.1199\n",
      "Epoch 11/80\n",
      " - 2s - loss: 0.0977\n",
      "Epoch 12/80\n",
      " - 2s - loss: 0.0831\n",
      "Epoch 13/80\n",
      " - 2s - loss: 0.0778\n",
      "Epoch 14/80\n",
      " - 2s - loss: 0.0612\n",
      "Epoch 15/80\n",
      " - 2s - loss: 0.0537\n",
      "Epoch 16/80\n",
      " - 2s - loss: 0.0532\n",
      "Epoch 17/80\n",
      " - 2s - loss: 0.0428\n",
      "Epoch 18/80\n",
      " - 2s - loss: 0.0419\n",
      "Epoch 19/80\n",
      " - 2s - loss: 0.0362\n",
      "Epoch 20/80\n",
      " - 2s - loss: 0.0374\n",
      "Epoch 21/80\n",
      " - 2s - loss: 0.0363\n",
      "Epoch 22/80\n",
      " - 2s - loss: 0.0365\n",
      "Epoch 23/80\n",
      " - 2s - loss: 0.0387\n",
      "Epoch 24/80\n",
      " - 2s - loss: 0.0331\n",
      "Epoch 25/80\n",
      " - 2s - loss: 0.0278\n",
      "Epoch 26/80\n",
      " - 2s - loss: 0.0261\n",
      "Epoch 27/80\n",
      " - 2s - loss: 0.0256\n",
      "Epoch 28/80\n",
      " - 2s - loss: 0.0249\n",
      "Epoch 29/80\n",
      " - 2s - loss: 0.0272\n",
      "Epoch 30/80\n",
      " - 2s - loss: 0.0291\n",
      "Epoch 31/80\n",
      " - 2s - loss: 0.0224\n",
      "Epoch 32/80\n",
      " - 2s - loss: 0.0212\n",
      "Epoch 33/80\n",
      " - 2s - loss: 0.0217\n",
      "Epoch 34/80\n",
      " - 2s - loss: 0.0213\n",
      "Epoch 35/80\n",
      " - 2s - loss: 0.0186\n",
      "Epoch 36/80\n",
      " - 2s - loss: 0.0193\n",
      "Epoch 37/80\n",
      " - 2s - loss: 0.0192\n",
      "Epoch 38/80\n",
      " - 2s - loss: 0.0185\n",
      "Epoch 39/80\n",
      " - 2s - loss: 0.0187\n",
      "Epoch 40/80\n",
      " - 2s - loss: 0.0177\n",
      "Epoch 41/80\n",
      " - 2s - loss: 0.0181\n",
      "Epoch 42/80\n",
      " - 2s - loss: 0.0182\n",
      "Epoch 43/80\n",
      " - 2s - loss: 0.0183\n",
      "Epoch 44/80\n",
      " - 2s - loss: 0.0198\n",
      "Epoch 45/80\n",
      " - 2s - loss: 0.0194\n",
      "Epoch 46/80\n",
      " - 2s - loss: 0.0166\n",
      "Epoch 47/80\n",
      " - 2s - loss: 0.0156\n",
      "Epoch 48/80\n",
      " - 2s - loss: 0.0163\n",
      "Epoch 49/80\n",
      " - 2s - loss: 0.0156\n",
      "Epoch 50/80\n",
      " - 2s - loss: 0.0138\n",
      "Epoch 51/80\n",
      " - 2s - loss: 0.0134\n",
      "Epoch 52/80\n",
      " - 2s - loss: 0.0142\n",
      "Epoch 53/80\n",
      " - 2s - loss: 0.0117\n",
      "Epoch 54/80\n",
      " - 2s - loss: 0.0141\n",
      "Epoch 55/80\n",
      " - 2s - loss: 0.0133\n",
      "Epoch 56/80\n",
      " - 2s - loss: 0.0134\n",
      "Epoch 57/80\n",
      " - 2s - loss: 0.0131\n",
      "Epoch 58/80\n",
      " - 2s - loss: 0.0117\n",
      "Epoch 59/80\n",
      " - 2s - loss: 0.0116\n",
      "Epoch 60/80\n",
      " - 2s - loss: 0.0129\n",
      "Epoch 61/80\n",
      " - 2s - loss: 0.0119\n",
      "Epoch 62/80\n",
      " - 2s - loss: 0.0108\n",
      "Epoch 63/80\n",
      " - 2s - loss: 0.0115\n",
      "Epoch 64/80\n",
      " - 2s - loss: 0.0123\n",
      "Epoch 65/80\n",
      " - 2s - loss: 0.0116\n",
      "Epoch 66/80\n",
      " - 2s - loss: 0.0122\n",
      "Epoch 67/80\n",
      " - 2s - loss: 0.0118\n",
      "Epoch 68/80\n",
      " - 2s - loss: 0.0130\n",
      "Epoch 69/80\n",
      " - 2s - loss: 0.0121\n",
      "Epoch 70/80\n",
      " - 2s - loss: 0.0113\n",
      "Epoch 71/80\n",
      " - 2s - loss: 0.0130\n",
      "Epoch 72/80\n",
      " - 2s - loss: 0.0125\n",
      "Epoch 73/80\n",
      " - 2s - loss: 0.0117\n",
      "Epoch 74/80\n",
      " - 2s - loss: 0.0139\n",
      "Epoch 75/80\n",
      " - 2s - loss: 0.0131\n",
      "Epoch 76/80\n",
      " - 2s - loss: 0.0125\n",
      "Epoch 77/80\n",
      " - 2s - loss: 0.0106\n",
      "Epoch 78/80\n",
      " - 2s - loss: 0.0102\n",
      "Epoch 79/80\n",
      " - 2s - loss: 0.0101\n",
      "Epoch 80/80\n",
      " - 2s - loss: 0.0097\n"
     ]
    },
    {
     "data": {
      "text/plain": [
       "<keras.callbacks.History at 0xb3cd96208>"
      ]
     },
     "execution_count": 32,
     "metadata": {},
     "output_type": "execute_result"
    }
   ],
   "source": [
    "model_vertices.compile(loss='mean_squared_error', optimizer='adam')\n",
    "model_vertices.fit(X_train, Y_vertices_train, batch_size=8, epochs=80, verbose=2)"
   ]
  },
  {
   "cell_type": "markdown",
   "metadata": {},
   "source": [
    "### Evaluate the solution"
   ]
  },
  {
   "cell_type": "code",
   "execution_count": 33,
   "metadata": {},
   "outputs": [
    {
     "name": "stdout",
     "output_type": "stream",
     "text": [
      "Test loss: 0.20252137263615927\n"
     ]
    }
   ],
   "source": [
    "score = model_vertices.evaluate(X_test, Y_vertices_test, verbose=0)\n",
    "print('Test loss:',score)"
   ]
  },
  {
   "cell_type": "markdown",
   "metadata": {},
   "source": [
    "### Visualize the prediction"
   ]
  },
  {
   "cell_type": "code",
   "execution_count": 54,
   "metadata": {},
   "outputs": [
    {
     "data": {
      "image/png": "[encoded data removed]",
      "text/plain": [
       "<Figure size 1440x1440 with 5 Axes>"
      ]
     },
     "metadata": {
      "needs_background": "light"
     },
     "output_type": "display_data"
    }
   ],
   "source": [
    "n = 5\n",
    "Y_vertices_predict = model_vertices.predict(X_test)\n",
    "visualization(n,X_test, denormalize_test(Y_vertices_test), denormalize_test(Y_vertices_predict))"
   ]
  },
  {
   "cell_type": "markdown",
   "metadata": {},
   "source": [
    "### Conclusion"
   ]
  },
  {
   "cell_type": "markdown",
   "metadata": {},
   "source": [
    "We have normalized and ordered the vertices in the x-axis order : we note that improve our results significantly."
   ]
  },
  {
   "cell_type": "markdown",
   "metadata": {},
   "source": [
    "## 7. Image Denoising"
   ]
  },
  {
   "cell_type": "markdown",
   "metadata": {},
   "source": [
    "Implement a hourglass network for denoising"
   ]
  },
  {
   "cell_type": "code",
   "execution_count": 35,
   "metadata": {},
   "outputs": [],
   "source": [
    "def generate_a_noisy_drawing(figsize, U, V, noise=0.0):\n",
    "    fig = plt.figure(figsize=(figsize,figsize))\n",
    "    ax = plt.subplot(111)\n",
    "    plt.axis('Off')\n",
    "    ax.set_xlim(0,figsize)\n",
    "    ax.set_ylim(0,figsize)\n",
    "    ax.fill(U, V, \"k\")\n",
    "    fig.canvas.draw()\n",
    "    imdata = np.frombuffer(fig.canvas.tostring_rgb(), dtype=np.uint8)[::3].astype(np.float32)\n",
    "    ### modified\n",
    "    imdata_noisy = imdata + noise * np.random.random(imdata.size)\n",
    "    imdata = imdata\n",
    "    ###\n",
    "    plt.close(fig)\n",
    "    return imdata_noisy, imdata\n",
    "\n",
    "def generate_a_noisy_rectangle(noise=0.0):\n",
    "    figsize = 1.0    \n",
    "    U = np.zeros(4)\n",
    "    V = np.zeros(4)\n",
    "    \n",
    "    side = (0.3 + 0.7 * np.random.random()) * figsize\n",
    "    top = figsize/2 + side/2\n",
    "    bottom = figsize/2 - side/2\n",
    "    left = bottom\n",
    "    right = top\n",
    "    \n",
    "    U[0] = U[1] = top\n",
    "    U[2] = U[3] = bottom\n",
    "    V[0] = V[3] = left\n",
    "    V[1] = V[2] = right\n",
    "    return generate_a_noisy_drawing(figsize, U, V, noise)\n",
    "\n",
    "\n",
    "def generate_a_noisy_disk(noise=0.0):\n",
    "    figsize = 1.0\n",
    "    \n",
    "    center = (figsize/2, figsize/2)\n",
    "    \n",
    "    radius = (0.3 + 0.7 * np.random.random()) * figsize/2\n",
    "    N = 50\n",
    "    U = np.zeros(N)\n",
    "    V = np.zeros(N)\n",
    "    i = 0\n",
    "    for t in np.linspace(0, 2*np.pi, N):\n",
    "        U[i] = center[0] + np.cos(t) * radius\n",
    "        V[i] = center[1] + np.sin(t) * radius\n",
    "        i = i + 1\n",
    "    return generate_a_noisy_drawing(figsize, U, V, noise)\n",
    "\n",
    "def generate_a_noisy_triangle(noise=0.0):\n",
    "    figsize = 1.0\n",
    "    \n",
    "    size = (0.3 + 0.7 * np.random.random())*figsize/2\n",
    "    middle = figsize/2\n",
    "    U = (middle, middle+size, middle-size)\n",
    "    V = (middle+size, middle-size, middle-size)\n",
    "    \n",
    "    return generate_a_noisy_drawing(figsize, U, V, noise)\n",
    "    \n",
    "def generate_dataset_denoising(nb_samples, max_noise = 500):\n",
    "    \n",
    "    im_size = generate_a_rectangle().shape[0]\n",
    "    \n",
    "    X_noisy = np.zeros([nb_samples,im_size])\n",
    "    X = np.zeros([nb_samples,im_size])\n",
    "    \n",
    "    for i in range(nb_samples):\n",
    "        \n",
    "        noise = np.random.randint(max_noise)\n",
    "        category = np.random.randint(3)\n",
    "        \n",
    "        if category == 0:\n",
    "            X_noisy[i], X[i] = generate_a_noisy_rectangle(noise)\n",
    "        elif category == 1: \n",
    "            X_noisy[i], X[i] = generate_a_noisy_disk(noise)\n",
    "        else:\n",
    "            X_noisy[i], X[i] = generate_a_noisy_triangle(noise)\n",
    "        \n",
    "        X_noisy[i] = (X_noisy[i] + noise) / (255 + 2 * noise)\n",
    "        X[i] = X[i] / 255\n",
    "   \n",
    "    return [X_noisy, X]\n"
   ]
  },
  {
   "cell_type": "markdown",
   "metadata": {},
   "source": [
    "### Generate a training and test set"
   ]
  },
  {
   "cell_type": "code",
   "execution_count": 36,
   "metadata": {},
   "outputs": [],
   "source": [
    "[X_noisy_train, X_train_7] = generate_dataset_denoising(300)\n",
    "[X_noisy_test, _] = generate_dataset_denoising(300, 100)"
   ]
  },
  {
   "cell_type": "markdown",
   "metadata": {},
   "source": [
    "### Visualize a training sample"
   ]
  },
  {
   "cell_type": "code",
   "execution_count": 37,
   "metadata": {},
   "outputs": [
    {
     "data": {
      "image/png": "[encoded data removed]",
      "text/plain": [
       "<Figure size 432x288 with 2 Axes>"
      ]
     },
     "metadata": {
      "needs_background": "light"
     },
     "output_type": "display_data"
    }
   ],
   "source": [
    "fig = plt.figure()\n",
    "ax1 = fig.add_subplot(1,2,1)\n",
    "ax1.imshow(X_noisy_train[0].reshape(IMAGE_SIZE,IMAGE_SIZE), cmap='gray')\n",
    "ax2 = fig.add_subplot(1,2,2)\n",
    "ax2.imshow(X_train_7[0].reshape(IMAGE_SIZE,IMAGE_SIZE), cmap='gray')\n",
    "plt.show()"
   ]
  },
  {
   "cell_type": "markdown",
   "metadata": {},
   "source": [
    "### Reformating"
   ]
  },
  {
   "cell_type": "code",
   "execution_count": 38,
   "metadata": {},
   "outputs": [],
   "source": [
    "X_train_7 = X_train_7.reshape(X_train_7.shape[0],IMAGE_SIZE,IMAGE_SIZE,1)\n",
    "X_noisy_train = X_noisy_train.reshape(X_noisy_train.shape[0],IMAGE_SIZE,IMAGE_SIZE,1)\n",
    "\n",
    "X_noisy_test = X_noisy_test.reshape(X_noisy_test.shape[0],IMAGE_SIZE,IMAGE_SIZE,1)"
   ]
  },
  {
   "cell_type": "markdown",
   "metadata": {},
   "source": [
    "### Model"
   ]
  },
  {
   "cell_type": "code",
   "execution_count": 39,
   "metadata": {},
   "outputs": [
    {
     "name": "stdout",
     "output_type": "stream",
     "text": [
      "_________________________________________________________________\n",
      "Layer (type)                 Output Shape              Param #   \n",
      "=================================================================\n",
      "input_1 (InputLayer)         (None, 72, 72, 1)         0         \n",
      "_________________________________________________________________\n",
      "conv2d_7 (Conv2D)            (None, 72, 72, 32)        320       \n",
      "_________________________________________________________________\n",
      "max_pooling2d_7 (MaxPooling2 (None, 36, 36, 32)        0         \n",
      "_________________________________________________________________\n",
      "conv2d_8 (Conv2D)            (None, 36, 36, 32)        9248      \n",
      "_________________________________________________________________\n",
      "max_pooling2d_8 (MaxPooling2 (None, 18, 18, 32)        0         \n",
      "_________________________________________________________________\n",
      "conv2d_9 (Conv2D)            (None, 18, 18, 32)        9248      \n",
      "_________________________________________________________________\n",
      "up_sampling2d_1 (UpSampling2 (None, 36, 36, 32)        0         \n",
      "_________________________________________________________________\n",
      "conv2d_10 (Conv2D)           (None, 36, 36, 32)        9248      \n",
      "_________________________________________________________________\n",
      "up_sampling2d_2 (UpSampling2 (None, 72, 72, 32)        0         \n",
      "_________________________________________________________________\n",
      "conv2d_11 (Conv2D)           (None, 72, 72, 1)         289       \n",
      "=================================================================\n",
      "Total params: 28,353\n",
      "Trainable params: 28,353\n",
      "Non-trainable params: 0\n",
      "_________________________________________________________________\n"
     ]
    }
   ],
   "source": [
    "input_img = Input(shape=(IMAGE_SIZE,IMAGE_SIZE, 1))\n",
    "\n",
    "x = Conv2D(32, (3, 3), activation='relu', padding='same')(input_img)\n",
    "x = MaxPooling2D((2, 2), padding='same')(x)\n",
    "x = Conv2D(32, (3, 3), activation='relu', padding='same')(x)\n",
    "encoded = MaxPooling2D((2, 2), padding='same')(x)\n",
    "\n",
    "x = Conv2D(32, (3, 3), activation='relu', padding='same')(encoded)\n",
    "x = UpSampling2D((2, 2))(x)\n",
    "x = Conv2D(32, (3, 3), activation='relu', padding='same')(x)\n",
    "x = UpSampling2D((2, 2))(x)\n",
    "decoded = Conv2D(1, (3, 3), activation='sigmoid', padding='same')(x)\n",
    "\n",
    "autoencoder = Model(input_img, decoded)\n",
    "\n",
    "autoencoder.summary()"
   ]
  },
  {
   "cell_type": "markdown",
   "metadata": {},
   "source": [
    "### Optimization"
   ]
  },
  {
   "cell_type": "code",
   "execution_count": 40,
   "metadata": {},
   "outputs": [
    {
     "name": "stdout",
     "output_type": "stream",
     "text": [
      "Epoch 1/40\n",
      " - 3s - loss: 0.4305\n",
      "Epoch 2/40\n",
      " - 3s - loss: 0.2372\n",
      "Epoch 3/40\n",
      " - 3s - loss: 0.0613\n",
      "Epoch 4/40\n",
      " - 3s - loss: 0.0256\n",
      "Epoch 5/40\n",
      " - 3s - loss: 0.0269\n",
      "Epoch 6/40\n",
      " - 3s - loss: 0.0256\n",
      "Epoch 7/40\n",
      " - 3s - loss: 0.0217\n",
      "Epoch 8/40\n",
      " - 4s - loss: 0.0225\n",
      "Epoch 9/40\n",
      " - 4s - loss: 0.0218\n",
      "Epoch 10/40\n",
      " - 3s - loss: 0.0189\n",
      "Epoch 11/40\n",
      " - 3s - loss: 0.0157\n",
      "Epoch 12/40\n",
      " - 3s - loss: 0.0171\n",
      "Epoch 13/40\n",
      " - 3s - loss: 0.0152\n",
      "Epoch 14/40\n",
      " - 3s - loss: 0.0149\n",
      "Epoch 15/40\n",
      " - 3s - loss: 0.0135\n",
      "Epoch 16/40\n",
      " - 3s - loss: 0.0125\n",
      "Epoch 17/40\n",
      " - 3s - loss: 0.0120\n",
      "Epoch 18/40\n",
      " - 3s - loss: 0.0126\n",
      "Epoch 19/40\n",
      " - 3s - loss: 0.0101\n",
      "Epoch 20/40\n",
      " - 3s - loss: 0.0104\n",
      "Epoch 21/40\n",
      " - 3s - loss: 0.0098\n",
      "Epoch 22/40\n",
      " - 3s - loss: 0.0098\n",
      "Epoch 23/40\n",
      " - 3s - loss: 0.0085\n",
      "Epoch 24/40\n",
      " - 3s - loss: 0.0095\n",
      "Epoch 25/40\n",
      " - 3s - loss: 0.0096\n",
      "Epoch 26/40\n",
      " - 3s - loss: 0.0066\n",
      "Epoch 27/40\n",
      " - 4s - loss: 0.0082\n",
      "Epoch 28/40\n",
      " - 4s - loss: 0.0077\n",
      "Epoch 29/40\n",
      " - 4s - loss: 0.0077\n",
      "Epoch 30/40\n",
      " - 3s - loss: 0.0068\n",
      "Epoch 31/40\n",
      " - 3s - loss: 0.0070\n",
      "Epoch 32/40\n",
      " - 3s - loss: 0.0066\n",
      "Epoch 33/40\n",
      " - 4s - loss: 0.0069\n",
      "Epoch 34/40\n",
      " - 4s - loss: 0.0063\n",
      "Epoch 35/40\n",
      " - 4s - loss: 0.0070\n",
      "Epoch 36/40\n",
      " - 3s - loss: 0.0057\n",
      "Epoch 37/40\n",
      " - 3s - loss: 0.0059\n",
      "Epoch 38/40\n",
      " - 3s - loss: 0.0060\n",
      "Epoch 39/40\n",
      " - 3s - loss: 0.0058\n",
      "Epoch 40/40\n",
      " - 3s - loss: 0.0064\n"
     ]
    },
    {
     "data": {
      "text/plain": [
       "<keras.callbacks.History at 0xb42001e48>"
      ]
     },
     "execution_count": 40,
     "metadata": {},
     "output_type": "execute_result"
    }
   ],
   "source": [
    "autoencoder.compile(loss='binary_crossentropy', optimizer='adadelta')\n",
    "autoencoder.fit(X_noisy_train, X_train_7, batch_size=4, epochs=40, verbose=2)"
   ]
  },
  {
   "cell_type": "markdown",
   "metadata": {},
   "source": [
    "### Visualization"
   ]
  },
  {
   "cell_type": "code",
   "execution_count": 57,
   "metadata": {},
   "outputs": [
    {
     "data": {
      "image/png": "[encoded data removed]",
      "text/plain": [
       "<Figure size 432x288 with 2 Axes>"
      ]
     },
     "metadata": {
      "needs_background": "light"
     },
     "output_type": "display_data"
    }
   ],
   "source": [
    "X_denoise = autoencoder.predict(X_noisy_test)\n",
    "\n",
    "n = 3\n",
    "fig = plt.figure()\n",
    "ax1 = fig.add_subplot(1,2,1)\n",
    "ax1.imshow(X_noisy_test[n].reshape(IMAGE_SIZE,IMAGE_SIZE), cmap='gray')\n",
    "ax2 = fig.add_subplot(1,2,2)\n",
    "ax2.imshow(X_denoise[n].reshape(IMAGE_SIZE,IMAGE_SIZE), cmap='gray')\n",
    "plt.show()"
   ]
  },
  {
   "cell_type": "code",
   "execution_count": null,
   "metadata": {},
   "outputs": [],
   "source": []
  }
 ],
 "metadata": {
  "kernelspec": {
   "display_name": "Python 3",
   "language": "python",
   "name": "python3"
  },
  "language_info": {
   "codemirror_mode": {
    "name": "ipython",
    "version": 3
   },
   "file_extension": ".py",
   "mimetype": "text/x-python",
   "name": "python",
   "nbconvert_exporter": "python",
   "pygments_lexer": "ipython3",
   "version": "3.6.6"
  }
 },
 "nbformat": 4,
 "nbformat_minor": 2
}
